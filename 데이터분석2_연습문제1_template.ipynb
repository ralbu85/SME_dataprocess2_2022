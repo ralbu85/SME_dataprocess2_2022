{
  "nbformat": 4,
  "nbformat_minor": 0,
  "metadata": {
    "colab": {
      "provenance": [],
      "collapsed_sections": [],
      "authorship_tag": "ABX9TyNC6Y91Nx6Xob6YCQyIykec",
      "include_colab_link": true
    },
    "kernelspec": {
      "name": "python3",
      "display_name": "Python 3"
    },
    "language_info": {
      "name": "python"
    }
  },
  "cells": [
    {
      "cell_type": "markdown",
      "metadata": {
        "id": "view-in-github",
        "colab_type": "text"
      },
      "source": [
        "<a href=\"https://colab.research.google.com/github/ralbu85/SME_dataprocess2_2022/blob/main/%EB%8D%B0%EC%9D%B4%ED%84%B0%EB%B6%84%EC%84%9D2_%EC%97%B0%EC%8A%B5%EB%AC%B8%EC%A0%9C1_template.ipynb\" target=\"_parent\"><img src=\"https://colab.research.google.com/assets/colab-badge.svg\" alt=\"Open In Colab\"/></a>"
      ]
    },
    {
      "cell_type": "code",
      "execution_count": null,
      "metadata": {
        "id": "cOR-IaT-Kkwx"
      },
      "outputs": [],
      "source": [
        "# pandas 모듈 불러오기\n",
        "import pandas as pd"
      ]
    },
    {
      "cell_type": "code",
      "source": [
        "# 데이터 불러오기\n",
        "df = pd.read_csv('https://raw.githubusercontent.com/ralbu85/SME_dataprocess2_2022/main/data/nba.csv')"
      ],
      "metadata": {
        "id": "hcTaiK1pMVO0"
      },
      "execution_count": null,
      "outputs": []
    },
    {
      "cell_type": "code",
      "source": [
        "df"
      ],
      "metadata": {
        "id": "G_CpwUOZPiFn"
      },
      "execution_count": null,
      "outputs": []
    },
    {
      "cell_type": "markdown",
      "source": [
        "## 문제1 <br>\n",
        "포인트가드(PG)에서 연봉이 800,000 달라 넘는 선수의 수를 구하시오"
      ],
      "metadata": {
        "id": "_pA-nGSONzUw"
      }
    },
    {
      "cell_type": "code",
      "source": [
        "# 정답작성"
      ],
      "metadata": {
        "id": "zCnOS5kZUClA"
      },
      "execution_count": null,
      "outputs": []
    },
    {
      "cell_type": "markdown",
      "source": [
        "## 문제2<br>\n",
        "위 데이터를 바탕으로 존재하는 모든 팀의 이름을 추려내어 보시오<br>\n",
        "힌트: np.unique()를 인터넷에 검색해보고, api를 참고하시오"
      ],
      "metadata": {
        "id": "ThRWXNUcSjXi"
      }
    },
    {
      "cell_type": "code",
      "source": [
        "# 정답작성"
      ],
      "metadata": {
        "id": "M4uvHBrbUDDz"
      },
      "execution_count": null,
      "outputs": []
    },
    {
      "cell_type": "markdown",
      "source": [
        "## 문제3<br>\n",
        "모든 포지션 별 평균 나이를 계산하여 출력해 보시오 <br>\n",
        "힌트: 위에서 사용한 np.unique()를 이용\n"
      ],
      "metadata": {
        "id": "4cOcpNxWPkSw"
      }
    },
    {
      "cell_type": "code",
      "source": [
        "# 정답작성"
      ],
      "metadata": {
        "id": "lFclK-J6UEGO"
      },
      "execution_count": null,
      "outputs": []
    },
    {
      "cell_type": "markdown",
      "source": [
        "## 문제4 <br>\n",
        "Height에 기재된 키는 feet 단위로 되어있다. 이를 변환하여 cm로 바꾸시오. 바꾼 결과는 기존 데이터프레임에 Height_cm 이라는 이름의 열로 저장하시오.\n"
      ],
      "metadata": {
        "id": "VxDTm2CgQnHN"
      }
    },
    {
      "cell_type": "code",
      "source": [
        "# 정답작성"
      ],
      "metadata": {
        "id": "wCGSK7bYUFrL"
      },
      "execution_count": null,
      "outputs": []
    },
    {
      "cell_type": "markdown",
      "source": [
        "## 문제5 <br>\n",
        "포지션 별로 평균 신장과 표준편차를 각각 구하여 출력해 보시오<br>\n",
        "포지션 별 신장에 차이가 있는지 데이터 분석을 통해 결론내려보시오."
      ],
      "metadata": {
        "id": "QzBrrc7WU7Xm"
      }
    },
    {
      "cell_type": "code",
      "source": [
        "# 정답작성"
      ],
      "metadata": {
        "id": "U42Z59i_VKa9"
      },
      "execution_count": null,
      "outputs": []
    },
    {
      "cell_type": "markdown",
      "source": [
        "## 문제6<br>\n",
        "포지션별로 30대 이상인 선수와 30대 미만인 선수의 연봉을 비교해보고, 나이가 연봉에 영향을 끼치는 중요 요소인지 결론을 내려보시오. <br>\n",
        "힌트: 분석결과에 바탕을 두고 결론 내릴것, 필요하다면 분석결과를 설명하는 텍스트 셀을 하나 추가해도 됨\n"
      ],
      "metadata": {
        "id": "P0UKxkrkS7LN"
      }
    },
    {
      "cell_type": "code",
      "source": [
        "# 정답작성"
      ],
      "metadata": {
        "id": "cM7s2PFkTP4V"
      },
      "execution_count": null,
      "outputs": []
    },
    {
      "cell_type": "markdown",
      "source": [
        "## 주의사항\n",
        "* 코드작성후 파일-다운로드-.ipynb 다운로드\n",
        "* 코드 다운로드 후 lms 과제탭에 업로드할것\n",
        "* 기한엄수, 제출형식(.ipynb) 엄수!"
      ],
      "metadata": {
        "id": "umRifuIuUYFd"
      }
    }
  ]
}